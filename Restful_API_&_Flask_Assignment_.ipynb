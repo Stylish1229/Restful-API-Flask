{
  "nbformat": 4,
  "nbformat_minor": 0,
  "metadata": {
    "colab": {
      "provenance": []
    },
    "kernelspec": {
      "name": "python3",
      "display_name": "Python 3"
    },
    "language_info": {
      "name": "python"
    }
  },
  "cells": [
    {
      "cell_type": "markdown",
      "source": [
        "1. What is a RESTful API ?\n",
        "- A RESTful API (Representational State Transfer API) is a web service that follows REST principles to enable communication between clients and servers. It is commonly used for building web applications, mobile apps, and cloud-based services."
      ],
      "metadata": {
        "id": "8imNrYLW86ig"
      }
    },
    {
      "cell_type": "markdown",
      "source": [
        "2. Explain the concept of API specification ?\n",
        "- An API Specification is a detailed document or definition that describes how an API should work, including its endpoints, request and response formats, authentication methods, error handling, and more. It serves as a contract between API developers and users, ensuring consistency and usability."
      ],
      "metadata": {
        "id": "k1C38oMy9UTb"
      }
    },
    {
      "cell_type": "markdown",
      "source": [
        "3. What is Flask, and why is it popular for building APIs ?\n",
        "- Flask is a lightweight and flexible web framework for Python, commonly used to build web applications and RESTful APIs. It is designed to be simple yet powerful, making it a popular choice among developers.\n",
        "\n",
        "- Flask is Popular for Building APIs , Easy to Learn & Use , Built-in Development Server & Debugger , Supports Extensions , Flexible & Scalable\n",
        "- Lightweight & Minimalistic,  Supports RESTful API Development"
      ],
      "metadata": {
        "id": "yWODxmKe9lRj"
      }
    },
    {
      "cell_type": "markdown",
      "source": [
        "4. What is routing in Flask ?\n",
        "- Routing in Flask is the process of mapping URLs (routes) to functions that handle requests. When a user accesses a specific URL, Flask determines which function should execute based on the defined route.\n",
        "\n"
      ],
      "metadata": {
        "id": "CkhWwGaX-NlW"
      }
    },
    {
      "cell_type": "markdown",
      "source": [
        "5.  How do you create a simple Flask application ?\n",
        "- Flask makes it easy to build a simple web application. Follow these steps:\n",
        "- Install Flask , Create a Python File , Run the Flask App, Open in a Browser, Add More Routes .\n"
      ],
      "metadata": {
        "id": "0Ja_IVY_-X6U"
      }
    },
    {
      "cell_type": "markdown",
      "source": [
        "6. What are HTTP Methods Used in RESTful APIs ?\n",
        "- HTTP Methods Used in RESTful APIs :\n",
        "- In a RESTful API, HTTP methods define the actions clients can perform on resources (e.g., users, products). Below are the most common HTTP methods used in REST APIs : GET (Retrieve Data) , POST (Create a New Resource) ,PUT (Update an Entire Resource) , PATCH (Update Partial Data) , DELETE (Remove a Resource) .\n",
        "\n"
      ],
      "metadata": {
        "id": "QPpJReiS_C6v"
      }
    },
    {
      "cell_type": "markdown",
      "source": [
        "7. What is the purpose of the @app.route() decorator in Flask ?\n",
        "- Purpose of the @app.route() Decorator in Flask :\n",
        "- The @app.route() decorator in Flask is used to define the routes for a web application. It tells Flask which URL should trigger a specific function when accessed."
      ],
      "metadata": {
        "id": "bJe9MUPOADu9"
      }
    },
    {
      "cell_type": "markdown",
      "source": [
        "8.  What is the difference between GET and POST HTTP methods ?\n",
        "- Difference Between GET and POST HTTP Methods :\n",
        "Both GET and POST are commonly used HTTP methods in RESTful APIs, but they serve different purposes.\n",
        "1. GET Method (Retrieve Data) :\n",
        "- Used to request data from the server.\n",
        "- It does not modify any data (read-only).\n",
        "- Parameters are sent in the URL (query string).\n",
        "- Can be cached and bookmarked.\n",
        "2. POST Method (Send Data) :\n",
        "- Used to send or create data on the server.\n",
        "- Data is sent in the request body (not in the URL).\n",
        "- Cannot be cached or bookmarked."
      ],
      "metadata": {
        "id": "YtK6LofyAdx3"
      }
    },
    {
      "cell_type": "markdown",
      "source": [
        "9. How do you handle errors in Flask APIs ?\n",
        "- Handling Errors in Flask APIs :\n",
        "When building Flask APIs, it's important to handle errors properly so users receive clear and meaningful responses. Flask provides multiple ways to handle errors gracefully.\n",
        "1. Using abort() to Send HTTP Error Responses :\n",
        "Flask's abort() function can be used to return HTTP error codes when something goes wrong.\n",
        "2. Custom Error Handlers :\n",
        "You can define custom error handlers to return structured JSON responses.\n",
        "3. Handling Multiple Errors :\n",
        "You can define multiple error handlers for different status codes.\n",
        "4. Using try-except for Error Handling :\n",
        "For catching specific exceptions, use Python's try-except blocks.\n",
        "5. Returning Custom Validation Errors :\n",
        "When handling user input, it's good practice to validate data and return meaningful errors."
      ],
      "metadata": {
        "id": "ZViZHPSVBFM0"
      }
    },
    {
      "cell_type": "markdown",
      "source": [
        "10. How do you connect Flask to a SQL database ?\n",
        "- Connecting Flask to a SQL Database :\n",
        "Flask can connect to SQL databases like SQLite, MySQL, and PostgreSQL using SQLAlchemy, a powerful ORM (Object Relational Mapper). Here’s how to connect Flask to a SQL database step by step.\n",
        "1. Install Required Packages :\n",
        "First, install Flask and SQLAlchemy\n",
        "2. Create a Flask App with SQLAlchemy :\n",
        "In your app.py file, set up the Flask app and connect it to a database.\n",
        "3. Using MySQL or PostgreSQL Instead of SQLite :\n",
        "Modify the SQLALCHEMY_DATABASE_URI for different databases\n",
        "4. Adding and Retrieving Data :\n",
        "Adding Data to the Database\n",
        "5. Updating and Deleting Data"
      ],
      "metadata": {
        "id": "uXf33YeMB2QX"
      }
    },
    {
      "cell_type": "markdown",
      "source": [
        "11. What is the role of Flask-SQLAlchemy ?  \n",
        "- Role of Flask-SQLAlchemy in Flask Applications :\n",
        "Flask-SQLAlchemy is an ORM (Object Relational Mapper) that simplifies database interactions in Flask applications. It acts as a bridge between Flask and SQLAlchemy, making it easier to work with SQL databases."
      ],
      "metadata": {
        "id": "7B-blmnKCm21"
      }
    },
    {
      "cell_type": "markdown",
      "source": [
        "12. What are Flask blueprints, and how are they useful ?\n",
        "- Flask Blueprint : Flask Blueprints allow you to organize your Flask application into smaller, modular components. Instead of keeping all routes in a single file (app.py), Blueprints let you split your app into multiple files, making it easier to maintain and scale.\n",
        "- They are useful :\n",
        " Define a Blueprint , Register the Blueprint in app.py , Adding More Blueprints .\n"
      ],
      "metadata": {
        "id": "hInaT_EqC0HB"
      }
    },
    {
      "cell_type": "markdown",
      "source": [
        "13.  What is the purpose of Flask's request object  ?\n",
        "- The purpose of Flask's request object is to provide access to incoming HTTP request data, including query parameters, form data, JSON data, headers, cookies, and file uploads, enabling interaction between clients and the Flask application."
      ],
      "metadata": {
        "id": "1uPxxq8lDfSk"
      }
    },
    {
      "cell_type": "markdown",
      "source": [
        "14.  How do you create a RESTful API endpoint using Flask  ?\n",
        "- Creating a RESTful API Endpoint Using Flask :\n",
        "To create a RESTful API in Flask, follow these steps : Install Flask, Create a Simple Flask API Endpoint , Creating CRUD Endpoints (GET, POST, PUT, DELETE).\n"
      ],
      "metadata": {
        "id": "JuCpLNfODz4j"
      }
    },
    {
      "cell_type": "markdown",
      "source": [
        "15. What is the purpose of Flask's jsonify() function ?\n",
        "- The purpose of Flask's jsonify() function is to convert Python dictionaries, lists, or objects into JSON format and return them as a proper HTTP response with the correct Content-Type: application/json header. It ensures a structured and standardized JSON response for APIs."
      ],
      "metadata": {
        "id": "urUcXMfGEPQf"
      }
    },
    {
      "cell_type": "markdown",
      "source": [
        "16.  Explain Flask's url_for() function ?\n",
        "- Flask's url_for() Function : Purpose & Usage\n",
        "- Purpose of url_for()\n",
        "Flask’s url_for() function dynamically generates URLs for routes defined in your application based on the function name. This helps avoid hardcoding URLs, making the app more flexible and maintainable.\n",
        "- Why Use url_for()?\n",
        "1.  Avoids Hardcoding URLs → If a route changes, you only update it in one place.\n",
        "2.  Handles URL Variables → Generates URLs dynamically with parameters.\n",
        "3.  Supports HTTP Methods → Works for GET, POST, etc.\n",
        "4. Ensures Correct URL Formatting → Automatically handles URL encoding.\n",
        "\n"
      ],
      "metadata": {
        "id": "iHvdWOjaEf4L"
      }
    },
    {
      "cell_type": "markdown",
      "source": [
        "17. How does Flask handle static files (CSS, JavaScript, etc.) ?\n",
        "- Flask Handling Static Files (CSS, JavaScript, Images, etc.) :\n",
        "-  Flask Manages Static Files :\n",
        "Flask automatically serves static files (CSS, JavaScript, images) from a special directory called static/ inside your project.\n",
        "- Flask handles static files (CSS, JavaScript, images) by serving them from the static/folder. You can reference them in HTML using url_for('static', filename='path')."
      ],
      "metadata": {
        "id": "vDufhtH-FNRv"
      }
    },
    {
      "cell_type": "markdown",
      "source": [
        "18. What is an API specification, and how does it help in building a Flask API ?\n",
        "- An API specification is a detailed document that defines how an API should behave, including its endpoints, request/response formats, HTTP methods, and authentication.  \n",
        "- It help in building a Flask API :\n",
        "1. Ensures consistency - Developers follow a standard structure.  \n",
        "2. Improves collaboration - Frontend and backend teams work in sync.  \n",
        "3. Enhances documentation -  Helps users understand and use the API.  \n",
        "4. Enables automation -  Tools like Swagger/OpenAPI can generate code and documentation.  "
      ],
      "metadata": {
        "id": "9T9Nc-_EF1li"
      }
    },
    {
      "cell_type": "markdown",
      "source": [
        "19. What are HTTP status codes, and why are they important in a Flask API ?\n",
        "- HTTP status codes are three-digit numbers that indicate the outcome of an HTTP request. They help communicate whether a request was successful, redirected, resulted in a client error, or caused a server error.\n",
        "- They are very important in a Flask API :\n",
        "1. Communicate Success or Failure - Helps clients understand if a request was successful or failed.\n",
        "2. Improve Debugging -  Makes it easier to identify and fix issues.\n",
        "3. Follow RESTful Standards -  Ensures proper API behavior.\n"
      ],
      "metadata": {
        "id": "YyJUOXT9GZcJ"
      }
    },
    {
      "cell_type": "markdown",
      "source": [
        "20. How do you handle POST requests in Flask ?\n",
        "- In Flask, POST requests are handled using the @app.route() decorator with methods=['POST'] and request.get_json() or request.form to retrieve data."
      ],
      "metadata": {
        "id": "TcreRd1eHWXZ"
      }
    },
    {
      "cell_type": "markdown",
      "source": [
        "21.  How would you secure a Flask API ?\n",
        "- To secure a Flask API, follow these practices:  \n",
        "\n",
        "1. Use Authentication & Authorization  -  Implement **JWT, OAuth, or API keys.  \n",
        "2. Validate & Sanitize Input -  Prevent SQL injection & XSS attacks.  \n",
        "3. Use HTTPS - Encrypt data with SSL/TLS.  \n",
        "4. Rate Limiting - Prevent DDoS attacks using Flask-Limiter.  \n",
        "5. Handle Errors Securely -  Avoid exposing sensitive error messages.  \n",
        "6. Enable CORS - Use Flask-CORS to control cross-origin access.  \n",
        "7. Keep Dependencies Updated - Regularly update Flask and libraries.  "
      ],
      "metadata": {
        "id": "huI4nwN2HhEe"
      }
    },
    {
      "cell_type": "markdown",
      "source": [
        "22.  What is the significance of the Flask-RESTful extension ?\n",
        "- The Flask-RESTful extension simplifies the creation of RESTful APIs in Flask by providing :\n",
        "\n",
        "1. Class-based views (Resource) - Organizes API logic efficiently.\n",
        "2. Request parsing (reqparse) - Handles input validation.\n",
        "3. Automatic HTTP methods -  Supports GET, POST, PUT, DELETE easily.\n",
        "4.  Built-in error handling - Returns proper status codes and messages."
      ],
      "metadata": {
        "id": "2rzpcy9JIVhN"
      }
    },
    {
      "cell_type": "markdown",
      "source": [
        "23. What is the role of Flask's session object?\n",
        "- Flask's session object stores user-specific data across multiple requests. It is used for maintaining user sessions, like login states, using signed cookies for security.\n",
        "\n",
        "- Key Features :\n",
        "1. Stores session data securely using a secret key.\n",
        "2. Persists data across requests (e.g., user authentication).\n",
        "3. Uses cookies but prevents tampering with cryptographic signing."
      ],
      "metadata": {
        "id": "3RKuHAKSIz9I"
      }
    },
    {
      "cell_type": "code",
      "source": [
        "#1. How do you create a basic Flask application ?\n",
        "from flask import Flask\n",
        "from flask_ngrok import run_with_ngrok\n",
        "\n",
        "app = Flask(__name__)\n",
        "run_with_ngrok(app)\n",
        "\n",
        "@app.route('/')\n",
        "def home():\n",
        "    return \"Hello, Flask!\"\n",
        "\n",
        "if __name__ == '__main__':\n",
        "    app.run()\n"
      ],
      "metadata": {
        "id": "j_9KsA9_QGZh"
      },
      "execution_count": null,
      "outputs": []
    },
    {
      "cell_type": "code",
      "source": [
        "#2.  How do you serve static files like images or CSS in Flask ?\n",
        "# Folder Structure :\n",
        "/my_flask_app\n",
        "    /static\n",
        "        /css\n",
        "            style.css\n",
        "        /images\n",
        "            logo.png\n",
        "        /js\n",
        "            script.js\n",
        "    /templates\n",
        "        index.html\n",
        "    app.py\n",
        "# Flask App (app.py)\n",
        "from flask import Flask, render_template, url_for\n",
        "\n",
        "app = Flask(__name__)\n",
        "\n",
        "@app.route('/')\n",
        "def home():\n",
        "    return render_template(\"index.html\")  # HTML file render karega\n",
        "\n",
        "if __name__ == '__main__':\n",
        "    app.run(debug=True)\n",
        "# HTML File (index.html)\n",
        "<!DOCTYPE html>\n",
        "<html lang=\"en\">\n",
        "<head>\n",
        "    <meta charset=\"UTF-8\">\n",
        "    <meta name=\"viewport\" content=\"width=device-width, initial-scale=1.0\">\n",
        "    <title>Flask Static Files</title>\n",
        "    <link rel=\"stylesheet\" href=\"{{ url_for('static', filename='css/style.css') }}\">\n",
        "</head>\n",
        "<body>\n",
        "    <h1>Welcome to Flask Static Files</h1>\n",
        "    <img src=\"{{ url_for('static', filename='images/logo.png') }}\" alt=\"Logo\">\n",
        "    <script src=\"{{ url_for('static', filename='js/script.js') }}\"></script>\n",
        "</body>\n",
        "</html>\n",
        "#  CSS File (style.css)\n",
        "body {\n",
        "    background-color: lightblue;\n",
        "    text-align: center;\n",
        "    font-family: Arial, sans-serif;\n",
        "}\n",
        "#  JavaScript File (script.js)\n",
        "console.log(\"JavaScript file loaded successfully!\");\n",
        "# Flask Server Run Karna\n",
        "python app.py\n"
      ],
      "metadata": {
        "id": "tXblVkdPQOfy"
      },
      "execution_count": null,
      "outputs": []
    },
    {
      "cell_type": "code",
      "source": [
        "# 3.  How do you define different routes with different HTTP methods in Flask ?\n",
        "from flask import Flask, request\n",
        "\n",
        "app = Flask(__name__)\n",
        "\n",
        "@app.route('/', methods=['GET'])\n",
        "def home():\n",
        "    return \"Welcome to the Home Page!\"\n",
        "\n",
        "@app.route('/submit', methods=['POST'])\n",
        "def submit():\n",
        "    data = request.form['name']\n",
        "    return f\"Hello, {data}!\"\n",
        "\n",
        "if __name__ == '__main__':\n",
        "    app.run(debug=True)\n"
      ],
      "metadata": {
        "id": "gKPctYHkReow"
      },
      "execution_count": null,
      "outputs": []
    },
    {
      "cell_type": "code",
      "source": [
        "#4. How do you render HTML templates in Flask\n",
        "from flask import Flask, render_template\n",
        "\n",
        "app = Flask(__name__)\n",
        "\n",
        "@app.route('/')\n",
        "def home():\n",
        "    return render_template('index.html')\n",
        "\n",
        "if __name__ == '__main__':\n",
        "    app.run(debug=True)\n"
      ],
      "metadata": {
        "id": "b0I56AujR2jw"
      },
      "execution_count": null,
      "outputs": []
    },
    {
      "cell_type": "code",
      "source": [
        "#5. How can you generate URLs for routes in Flask using url_for ?\n",
        "from flask import Flask, url_for\n",
        "\n",
        "app = Flask(__name__)\n",
        "\n",
        "@app.route('/')\n",
        "def home():\n",
        "    return \"Welcome to Home Page\"\n",
        "\n",
        "@app.route('/profile/<username>')\n",
        "def profile(username):\n",
        "    return f\"User Profile: {username}\"\n",
        "\n",
        "with app.test_request_context():\n",
        "    print(url_for('home'))  # Output: /\n",
        "    print(url_for('profile', username=\"Rahul\"))  # Output: /profile/Rahul\n",
        "\n",
        "if __name__ == '__main__':\n",
        "    app.run(debug=True)\n"
      ],
      "metadata": {
        "id": "HB7NFeDjSGp2"
      },
      "execution_count": null,
      "outputs": []
    },
    {
      "cell_type": "code",
      "source": [
        "#6. How do you handle forms in Flask ?\n",
        "<!DOCTYPE html>\n",
        "<html>\n",
        "<head>\n",
        "    <title>Flask Form</title>\n",
        "</head>\n",
        "<body>\n",
        "    <h2>Enter Your Name</h2>\n",
        "    <form action=\"{{ url_for('submit') }}\" method=\"POST\">\n",
        "        <input type=\"text\" name=\"username\" placeholder=\"Enter your name\">\n",
        "        <button type=\"submit\">Submit</button>\n",
        "    </form>\n",
        "</body>\n",
        "</html>\n",
        "\n",
        "\n"
      ],
      "metadata": {
        "id": "s5eQ9zXLScxU"
      },
      "execution_count": null,
      "outputs": []
    },
    {
      "cell_type": "code",
      "source": [
        "#7.  How can you validate form data in Flask ?\n",
        "from flask import Flask, request, render_template\n",
        "\n",
        "app = Flask(__name__)\n",
        "\n",
        "@app.route('/', methods=['GET', 'POST'])\n",
        "def index():\n",
        "    error = None\n",
        "    if request.method == 'POST':\n",
        "        username = request.form.get('username')  # Get username\n",
        "\n",
        "        # Manual Validation\n",
        "        if not username.strip():  # Empty check\n",
        "            error = \"Username cannot be empty!\"\n",
        "        elif len(username) < 3:  # Minimum length check\n",
        "            error = \"Username must be at least 3 characters long!\"\n",
        "        else:\n",
        "            return f\"Welcome, {username}!\"\n",
        "\n",
        "    return render_template('index.html', error=error)\n",
        "\n",
        "if __name__ == '__main__':\n",
        "    app.run(debug=True)\n"
      ],
      "metadata": {
        "id": "2fVTaH2DS8gU"
      },
      "execution_count": null,
      "outputs": []
    },
    {
      "cell_type": "code",
      "source": [
        "#8. How do you manage sessions in Flask ?\n",
        "from flask import Flask, session, redirect, url_for, request\n",
        "\n",
        "app = Flask(__name__)\n",
        "app.secret_key = \"mysecretkey\"  # Required for encrypting session data\n",
        "\n",
        "@app.route('/')\n",
        "def index():\n",
        "    if 'username' in session:\n",
        "        return f\"Welcome back, {session['username']}!\"\n",
        "    return \"You are not logged in! <a href='/login'>Login</a>\"\n",
        "\n",
        "@app.route('/login', methods=['GET', 'POST'])\n",
        "def login():\n",
        "    if request.method == 'POST':\n",
        "        session['username'] = request.form['username']  # Store in session\n",
        "        return redirect(url_for('index'))\n",
        "    return '''\n",
        "        <form method=\"post\">\n",
        "            <input type=\"text\" name=\"username\" placeholder=\"Enter username\">\n",
        "            <button type=\"submit\">Login</button>\n",
        "        </form>\n",
        "    '''\n",
        "\n",
        "@app.route('/logout')\n",
        "def logout():\n",
        "    session.pop('username', None)  # Remove user session\n",
        "    return redirect(url_for('index'))\n",
        "\n",
        "if __name__ == '__main__':\n",
        "    app.run(debug=True)\n",
        "\n"
      ],
      "metadata": {
        "id": "OYV4flENTTbb"
      },
      "execution_count": null,
      "outputs": []
    },
    {
      "cell_type": "code",
      "source": [
        "#9.  How do you redirect to a different route in Flask ?\n",
        "from flask import Flask, redirect, url_for\n",
        "\n",
        "app = Flask(__name__)\n",
        "\n",
        "@app.route('/')\n",
        "def home():\n",
        "    return \"Welcome to the Home Page! <a href='/go'>Go to Dashboard</a>\"\n",
        "\n",
        "@app.route('/go')\n",
        "def go():\n",
        "    return redirect(url_for('dashboard'))  # Redirecting to 'dashboard' route\n",
        "\n",
        "@app.route('/dashboard')\n",
        "def dashboard():\n",
        "    return \"This is the Dashboard Page!\"\n",
        "\n",
        "if __name__ == '__main__':\n",
        "    app.run(debug=True)\n"
      ],
      "metadata": {
        "id": "gSYs1hYMTnrH"
      },
      "execution_count": null,
      "outputs": []
    },
    {
      "cell_type": "code",
      "source": [
        "# 10. How do you handle errors in Flask (e.g., 404) ?\n",
        "from flask import Flask, render_template\n",
        "\n",
        "app = Flask(__name__)\n",
        "\n",
        "@app.route('/')\n",
        "def home():\n",
        "    return \"Welcome to the Home Page!\"\n",
        "\n",
        "# Handling 404 Error (Page Not Found)\n",
        "@app.errorhandler(404)\n",
        "def page_not_found(e):\n",
        "    return \"Oops! Page Not Found. Try Again.\", 404\n",
        "\n",
        "if __name__ == '__main__':\n",
        "    app.run(debug=True)\n"
      ],
      "metadata": {
        "id": "mj77QT-ITx46"
      },
      "execution_count": null,
      "outputs": []
    },
    {
      "cell_type": "code",
      "source": [
        "# 11. How do you structure a Flask app using Blueprints ?\n",
        "from flask import Flask\n",
        "\n",
        "def create_app():\n",
        "    app = Flask(__name__)\n",
        "\n",
        "    # Import and register blueprints\n",
        "    from app.blueprints.home import home_bp\n",
        "    from app.blueprints.auth import auth_bp\n",
        "\n",
        "    app.register_blueprint(home_bp)  # Home Routes\n",
        "    app.register_blueprint(auth_bp, url_prefix=\"/auth\")  # Auth Routes\n",
        "\n",
        "    return app\n"
      ],
      "metadata": {
        "id": "FSMQ9vkxT8EC"
      },
      "execution_count": null,
      "outputs": []
    },
    {
      "cell_type": "code",
      "source": [
        "# 12.How do you define a custom Jinja filter in Flask ?\n",
        "from flask import Flask, render_template\n",
        "\n",
        "app = Flask(__name__)\n",
        "\n",
        "# Custom Jinja Filter Function\n",
        "def reverse_string(s):\n",
        "    return s[::-1]\n",
        "\n",
        "# Register the Custom Filter\n",
        "app.jinja_env.filters['reverse'] = reverse_string\n",
        "\n",
        "@app.route('/')\n",
        "def home():\n",
        "    return render_template('index.html', message=\"Flask Jinja Filters\")\n",
        "\n",
        "if __name__ == '__main__':\n",
        "    app.run(debug=True)\n"
      ],
      "metadata": {
        "id": "0Uynas4CUIAP"
      },
      "execution_count": null,
      "outputs": []
    },
    {
      "cell_type": "code",
      "source": [
        "# 13. How can you redirect with query parameters in Flask ?\n",
        "from flask import Flask, redirect, url_for, request\n",
        "\n",
        "app = Flask(__name__)\n",
        "\n",
        "@app.route('/')\n",
        "def home():\n",
        "    return \"Welcome to the Home Page! <br> <a href='/redirect_user?name=John'>Go to Greeting</a>\"\n",
        "\n",
        "@app.route('/greet')\n",
        "def greet():\n",
        "    name = request.args.get('name', 'Guest')  # Default 'Guest' if no name is provided\n",
        "    return f\"Hello, {name}!\"\n",
        "\n",
        "@app.route('/redirect_user')\n",
        "def redirect_user():\n",
        "    return redirect(url_for('greet', name='John'))  # Redirect to /greet with query param\n",
        "\n",
        "if __name__ == '__main__':\n",
        "    app.run(debug=True)\n",
        "\n"
      ],
      "metadata": {
        "id": "Y4KCH8dDUlfZ"
      },
      "execution_count": null,
      "outputs": []
    },
    {
      "cell_type": "code",
      "source": [
        "# 14.  How do you return JSON responses in Flask ?\n",
        "from flask import Flask, jsonify\n",
        "\n",
        "app = Flask(__name__)\n",
        "\n",
        "@app.route('/api/data', methods=['GET'])\n",
        "def get_data():\n",
        "    data = {'message': 'Hello from Flask!'}\n",
        "    return jsonify(data)"
      ],
      "metadata": {
        "id": "ME6E3AdQU4ru"
      },
      "execution_count": null,
      "outputs": []
    },
    {
      "cell_type": "code",
      "source": [
        "#15.How do you capture URL parameters in Flask?\n",
        "from flask import Flask, request\n",
        "\n",
        "app = Flask(__name__)\n",
        "\n",
        "@app.route('/user/<username>')\n",
        "def show_user_profile(username):\n",
        "    return f'User {username}'"
      ],
      "metadata": {
        "id": "wgRFPS1JVCBW"
      },
      "execution_count": null,
      "outputs": []
    }
  ]
}